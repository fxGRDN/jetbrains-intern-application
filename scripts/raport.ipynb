{
 "cells": [
  {
   "cell_type": "code",
   "execution_count": null,
   "metadata": {},
   "outputs": [],
   "source": [
    "from RetriEval import RetriEval\n",
    "from fixed_token_chunker import FixedTokenChunker\n",
    "from embedders import HFMiniLM, HFMPNet\n",
    "import pandas as pd\n",
    "import seaborn as sns\n",
    "import matplotlib.pyplot as plt"
   ]
  },
  {
   "cell_type": "code",
   "execution_count": null,
   "metadata": {},
   "outputs": [],
   "source": [
    "eval = RetriEval(\n",
    "    chunker=FixedTokenChunker(chunk_size=256, chunk_overlap=0), #max input of MiniLM embeder is 256 tokens\n",
    "    embedding=HFMiniLM(),\n",
    "    retrived_chunks=10\n",
    ")\n",
    "\n",
    "data = eval.evaulate()"
   ]
  }
 ],
 "metadata": {
  "language_info": {
   "name": "python"
  }
 },
 "nbformat": 4,
 "nbformat_minor": 2
}
